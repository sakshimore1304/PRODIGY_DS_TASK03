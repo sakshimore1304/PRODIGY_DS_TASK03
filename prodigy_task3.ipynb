{
 "cells": [
  {
   "cell_type": "markdown",
   "id": "0a2ab7b8",
   "metadata": {},
   "source": [
    "# DECISION TREE CLASSIFIER"
   ]
  },
  {
   "cell_type": "markdown",
   "id": "1dd098b2",
   "metadata": {},
   "source": [
    "### This data analysis is done by - Sakshi K More"
   ]
  },
  {
   "cell_type": "markdown",
   "id": "7d302cce",
   "metadata": {},
   "source": [
    "### Data is selected from kaggle.com . The data is Salary data for data science field"
   ]
  },
  {
   "cell_type": "markdown",
   "id": "39137cd9",
   "metadata": {},
   "source": [
    "#### importing all the required libraries"
   ]
  },
  {
   "cell_type": "code",
   "execution_count": 30,
   "id": "51d55c94",
   "metadata": {},
   "outputs": [],
   "source": [
    "import pandas as pd\n",
    "import numpy as np\n",
    "import matplotlib.pyplot as plt\n",
    "import seaborn as sns\n",
    "from sklearn.metrics import accuracy_score\n",
    "from sklearn.tree import DecisionTreeClassifier,plot_tree\n",
    "from sklearn.model_selection import train_test_split\n",
    "import graphviz\n",
    "from sklearn.tree import export_graphviz"
   ]
  },
  {
   "cell_type": "markdown",
   "id": "81fab5ad",
   "metadata": {},
   "source": [
    "#### loading the dataset using the python pandas module"
   ]
  },
  {
   "cell_type": "code",
   "execution_count": 2,
   "id": "c16ef6ae",
   "metadata": {},
   "outputs": [],
   "source": [
    "data=pd.read_csv(\"C:/Users/Sakshi more/OneDrive/Desktop/Salary Data.csv\")"
   ]
  },
  {
   "cell_type": "code",
   "execution_count": 3,
   "id": "f8386d4a",
   "metadata": {},
   "outputs": [
    {
     "data": {
      "text/html": [
       "<div>\n",
       "<style scoped>\n",
       "    .dataframe tbody tr th:only-of-type {\n",
       "        vertical-align: middle;\n",
       "    }\n",
       "\n",
       "    .dataframe tbody tr th {\n",
       "        vertical-align: top;\n",
       "    }\n",
       "\n",
       "    .dataframe thead th {\n",
       "        text-align: right;\n",
       "    }\n",
       "</style>\n",
       "<table border=\"1\" class=\"dataframe\">\n",
       "  <thead>\n",
       "    <tr style=\"text-align: right;\">\n",
       "      <th></th>\n",
       "      <th>Age</th>\n",
       "      <th>Gender</th>\n",
       "      <th>Education Level</th>\n",
       "      <th>Job Title</th>\n",
       "      <th>Years of Experience</th>\n",
       "      <th>Salary</th>\n",
       "    </tr>\n",
       "  </thead>\n",
       "  <tbody>\n",
       "    <tr>\n",
       "      <th>0</th>\n",
       "      <td>32.0</td>\n",
       "      <td>Male</td>\n",
       "      <td>Bachelor's</td>\n",
       "      <td>Software Engineer</td>\n",
       "      <td>5.0</td>\n",
       "      <td>90000.0</td>\n",
       "    </tr>\n",
       "    <tr>\n",
       "      <th>1</th>\n",
       "      <td>28.0</td>\n",
       "      <td>Female</td>\n",
       "      <td>Master's</td>\n",
       "      <td>Data Analyst</td>\n",
       "      <td>3.0</td>\n",
       "      <td>65000.0</td>\n",
       "    </tr>\n",
       "    <tr>\n",
       "      <th>2</th>\n",
       "      <td>45.0</td>\n",
       "      <td>Male</td>\n",
       "      <td>PhD</td>\n",
       "      <td>Senior Manager</td>\n",
       "      <td>15.0</td>\n",
       "      <td>150000.0</td>\n",
       "    </tr>\n",
       "    <tr>\n",
       "      <th>3</th>\n",
       "      <td>36.0</td>\n",
       "      <td>Female</td>\n",
       "      <td>Bachelor's</td>\n",
       "      <td>Sales Associate</td>\n",
       "      <td>7.0</td>\n",
       "      <td>60000.0</td>\n",
       "    </tr>\n",
       "    <tr>\n",
       "      <th>4</th>\n",
       "      <td>52.0</td>\n",
       "      <td>Male</td>\n",
       "      <td>Master's</td>\n",
       "      <td>Director</td>\n",
       "      <td>20.0</td>\n",
       "      <td>200000.0</td>\n",
       "    </tr>\n",
       "  </tbody>\n",
       "</table>\n",
       "</div>"
      ],
      "text/plain": [
       "    Age  Gender Education Level          Job Title  Years of Experience  \\\n",
       "0  32.0    Male      Bachelor's  Software Engineer                  5.0   \n",
       "1  28.0  Female        Master's       Data Analyst                  3.0   \n",
       "2  45.0    Male             PhD     Senior Manager                 15.0   \n",
       "3  36.0  Female      Bachelor's    Sales Associate                  7.0   \n",
       "4  52.0    Male        Master's           Director                 20.0   \n",
       "\n",
       "     Salary  \n",
       "0   90000.0  \n",
       "1   65000.0  \n",
       "2  150000.0  \n",
       "3   60000.0  \n",
       "4  200000.0  "
      ]
     },
     "execution_count": 3,
     "metadata": {},
     "output_type": "execute_result"
    }
   ],
   "source": [
    "data.head()"
   ]
  },
  {
   "cell_type": "markdown",
   "id": "67e6c484",
   "metadata": {},
   "source": [
    "#### checking the shape of the data"
   ]
  },
  {
   "cell_type": "code",
   "execution_count": 4,
   "id": "ae522838",
   "metadata": {},
   "outputs": [
    {
     "data": {
      "text/plain": [
       "(375, 6)"
      ]
     },
     "execution_count": 4,
     "metadata": {},
     "output_type": "execute_result"
    }
   ],
   "source": [
    "data.shape"
   ]
  },
  {
   "cell_type": "markdown",
   "id": "2ab5dec9",
   "metadata": {},
   "source": [
    "#### displaying the columns of the dataset"
   ]
  },
  {
   "cell_type": "code",
   "execution_count": 5,
   "id": "6fd11e4e",
   "metadata": {},
   "outputs": [
    {
     "data": {
      "text/plain": [
       "Index(['Age', 'Gender', 'Education Level', 'Job Title', 'Years of Experience',\n",
       "       'Salary'],\n",
       "      dtype='object')"
      ]
     },
     "execution_count": 5,
     "metadata": {},
     "output_type": "execute_result"
    }
   ],
   "source": [
    "data.columns"
   ]
  },
  {
   "cell_type": "markdown",
   "id": "0b7d862d",
   "metadata": {},
   "source": [
    "#### displaying the data type of the columns in the dataset"
   ]
  },
  {
   "cell_type": "code",
   "execution_count": 6,
   "id": "af64a926",
   "metadata": {},
   "outputs": [
    {
     "data": {
      "text/plain": [
       "Age                    float64\n",
       "Gender                  object\n",
       "Education Level         object\n",
       "Job Title               object\n",
       "Years of Experience    float64\n",
       "Salary                 float64\n",
       "dtype: object"
      ]
     },
     "execution_count": 6,
     "metadata": {},
     "output_type": "execute_result"
    }
   ],
   "source": [
    "data.dtypes"
   ]
  },
  {
   "cell_type": "markdown",
   "id": "96d3682e",
   "metadata": {},
   "source": [
    "#### checking whether the data contains any null values"
   ]
  },
  {
   "cell_type": "code",
   "execution_count": 7,
   "id": "69e341c2",
   "metadata": {},
   "outputs": [
    {
     "data": {
      "text/plain": [
       "Age                    2\n",
       "Gender                 2\n",
       "Education Level        2\n",
       "Job Title              2\n",
       "Years of Experience    2\n",
       "Salary                 2\n",
       "dtype: int64"
      ]
     },
     "execution_count": 7,
     "metadata": {},
     "output_type": "execute_result"
    }
   ],
   "source": [
    "data.isnull().sum()"
   ]
  },
  {
   "cell_type": "code",
   "execution_count": 8,
   "id": "5a49827d",
   "metadata": {},
   "outputs": [],
   "source": [
    "#dropping the null values\n",
    "data.dropna(inplace=True)"
   ]
  },
  {
   "cell_type": "code",
   "execution_count": 9,
   "id": "98b39d0d",
   "metadata": {},
   "outputs": [
    {
     "data": {
      "text/plain": [
       "(373, 6)"
      ]
     },
     "execution_count": 9,
     "metadata": {},
     "output_type": "execute_result"
    }
   ],
   "source": [
    "data.shape"
   ]
  },
  {
   "cell_type": "code",
   "execution_count": 10,
   "id": "784d3705",
   "metadata": {},
   "outputs": [
    {
     "data": {
      "text/plain": [
       "Age                    0\n",
       "Gender                 0\n",
       "Education Level        0\n",
       "Job Title              0\n",
       "Years of Experience    0\n",
       "Salary                 0\n",
       "dtype: int64"
      ]
     },
     "execution_count": 10,
     "metadata": {},
     "output_type": "execute_result"
    }
   ],
   "source": [
    "data.isnull().sum()"
   ]
  },
  {
   "cell_type": "markdown",
   "id": "47d21a17",
   "metadata": {},
   "source": [
    "now the data is free from the null values"
   ]
  },
  {
   "cell_type": "markdown",
   "id": "067cb3c2",
   "metadata": {},
   "source": [
    "#### converting the age and salary column data type which is float to int data type"
   ]
  },
  {
   "cell_type": "code",
   "execution_count": 11,
   "id": "e34bd7aa",
   "metadata": {},
   "outputs": [],
   "source": [
    "data['Age']=data['Age'].astype(int)\n",
    "data['Salary']=data['Salary'].astype(int)"
   ]
  },
  {
   "cell_type": "code",
   "execution_count": 12,
   "id": "8d185ac9",
   "metadata": {},
   "outputs": [
    {
     "data": {
      "text/plain": [
       "Age                      int32\n",
       "Gender                  object\n",
       "Education Level         object\n",
       "Job Title               object\n",
       "Years of Experience    float64\n",
       "Salary                   int32\n",
       "dtype: object"
      ]
     },
     "execution_count": 12,
     "metadata": {},
     "output_type": "execute_result"
    }
   ],
   "source": [
    "data.dtypes"
   ]
  },
  {
   "cell_type": "markdown",
   "id": "78756af6",
   "metadata": {},
   "source": [
    "## VISUALIZING DATA"
   ]
  },
  {
   "cell_type": "markdown",
   "id": "c72b72aa",
   "metadata": {},
   "source": [
    "#### classifying employees based on their Educational Level and Gender"
   ]
  },
  {
   "cell_type": "code",
   "execution_count": 13,
   "id": "82bd847b",
   "metadata": {},
   "outputs": [
    {
     "data": {
      "image/png": "[encoded data removed]",
      "text/plain": [
       "<Figure size 432x288 with 1 Axes>"
      ]
     },
     "metadata": {
      "needs_background": "light"
     },
     "output_type": "display_data"
    }
   ],
   "source": [
    "ax=sns.countplot(x='Education Level',data=data,hue='Gender',palette='rocket')\n",
    "plt.title('Classification of Employees based on Education Level and Gender')\n",
    "for p in ax.patches:\n",
    "    ax.text(p.get_x()+p.get_width()/2.,p.get_height(),f'{p.get_height()}',ha='center',va='bottom')"
   ]
  },
  {
   "cell_type": "markdown",
   "id": "65c138f6",
   "metadata": {},
   "source": [
    "from this we can infer that there are more number of males that persue bachelor's degree than females"
   ]
  },
  {
   "cell_type": "markdown",
   "id": "8be8d458",
   "metadata": {},
   "source": [
    "also we can see that there is a slight increase in the number of females who persue masters and Phd then the Males"
   ]
  },
  {
   "cell_type": "markdown",
   "id": "84c6de0d",
   "metadata": {},
   "source": [
    "#### lets check if there is any relation between the salary and years of experience"
   ]
  },
  {
   "cell_type": "code",
   "execution_count": 14,
   "id": "d46f17ef",
   "metadata": {},
   "outputs": [
    {
     "data": {
      "text/plain": [
       "Text(0.5, 1.0, 'Relation between Years of Experience and Salary of employees')"
      ]
     },
     "execution_count": 14,
     "metadata": {},
     "output_type": "execute_result"
    },
    {
     "data": {
      "image/png": "[encoded data removed]",
      "text/plain": [
       "<Figure size 432x288 with 1 Axes>"
      ]
     },
     "metadata": {
      "needs_background": "light"
     },
     "output_type": "display_data"
    }
   ],
   "source": [
    "sns.regplot(x='Years of Experience',y='Salary',data=data)\n",
    "plt.title('Relation between Years of Experience and Salary of employees')"
   ]
  },
  {
   "cell_type": "markdown",
   "id": "59105a4a",
   "metadata": {},
   "source": [
    "from this chart we can infer that as the years of experience increases the salary of the employee also increases"
   ]
  },
  {
   "cell_type": "markdown",
   "id": "f8ca1b70",
   "metadata": {},
   "source": [
    "this indicates that there is a direct relationship between years of experience and salary"
   ]
  },
  {
   "cell_type": "markdown",
   "id": "816b20c3",
   "metadata": {},
   "source": [
    "### DECISION TREE CLASSIFIER"
   ]
  },
  {
   "cell_type": "markdown",
   "id": "a8936acf",
   "metadata": {},
   "source": [
    "#### converting the Education level column which is in object datatype into int datatype for better analysis"
   ]
  },
  {
   "cell_type": "markdown",
   "id": "f5e08d00",
   "metadata": {},
   "source": [
    "#### for this we use the mapping function of the python"
   ]
  },
  {
   "cell_type": "markdown",
   "id": "0b2e6a1f",
   "metadata": {},
   "source": [
    "#### 1 = Bachelor's"
   ]
  },
  {
   "cell_type": "markdown",
   "id": "7066aa91",
   "metadata": {},
   "source": [
    "#### 2 = Master's"
   ]
  },
  {
   "cell_type": "markdown",
   "id": "44376bec",
   "metadata": {},
   "source": [
    "#### 3 = PhD"
   ]
  },
  {
   "cell_type": "code",
   "execution_count": 15,
   "id": "8d804156",
   "metadata": {},
   "outputs": [],
   "source": [
    "data['Education Level']=data['Education Level'].map({'Bachelor\\'s':1,'Master\\'s':2,'PhD':3})"
   ]
  },
  {
   "cell_type": "markdown",
   "id": "92dc8fe0",
   "metadata": {},
   "source": [
    "#### converting the Gender column which is in object datatype into int datatype for better analysis"
   ]
  },
  {
   "cell_type": "markdown",
   "id": "371fec0d",
   "metadata": {},
   "source": [
    "#### for this we use the mapping function of the python"
   ]
  },
  {
   "cell_type": "markdown",
   "id": "1f202f71",
   "metadata": {},
   "source": [
    "#### 1 = Male"
   ]
  },
  {
   "cell_type": "markdown",
   "id": "36612f2c",
   "metadata": {},
   "source": [
    "#### 2 = Female"
   ]
  },
  {
   "cell_type": "code",
   "execution_count": 16,
   "id": "ceb144ab",
   "metadata": {},
   "outputs": [],
   "source": [
    "data['Gender']=data['Gender'].map({'Male':1,'Female':2})"
   ]
  },
  {
   "cell_type": "code",
   "execution_count": 17,
   "id": "d633d331",
   "metadata": {
    "scrolled": true
   },
   "outputs": [
    {
     "data": {
      "text/html": [
       "<div>\n",
       "<style scoped>\n",
       "    .dataframe tbody tr th:only-of-type {\n",
       "        vertical-align: middle;\n",
       "    }\n",
       "\n",
       "    .dataframe tbody tr th {\n",
       "        vertical-align: top;\n",
       "    }\n",
       "\n",
       "    .dataframe thead th {\n",
       "        text-align: right;\n",
       "    }\n",
       "</style>\n",
       "<table border=\"1\" class=\"dataframe\">\n",
       "  <thead>\n",
       "    <tr style=\"text-align: right;\">\n",
       "      <th></th>\n",
       "      <th>Age</th>\n",
       "      <th>Gender</th>\n",
       "      <th>Education Level</th>\n",
       "      <th>Job Title</th>\n",
       "      <th>Years of Experience</th>\n",
       "      <th>Salary</th>\n",
       "    </tr>\n",
       "  </thead>\n",
       "  <tbody>\n",
       "    <tr>\n",
       "      <th>0</th>\n",
       "      <td>32</td>\n",
       "      <td>1</td>\n",
       "      <td>1</td>\n",
       "      <td>Software Engineer</td>\n",
       "      <td>5.0</td>\n",
       "      <td>90000</td>\n",
       "    </tr>\n",
       "    <tr>\n",
       "      <th>1</th>\n",
       "      <td>28</td>\n",
       "      <td>2</td>\n",
       "      <td>2</td>\n",
       "      <td>Data Analyst</td>\n",
       "      <td>3.0</td>\n",
       "      <td>65000</td>\n",
       "    </tr>\n",
       "    <tr>\n",
       "      <th>2</th>\n",
       "      <td>45</td>\n",
       "      <td>1</td>\n",
       "      <td>3</td>\n",
       "      <td>Senior Manager</td>\n",
       "      <td>15.0</td>\n",
       "      <td>150000</td>\n",
       "    </tr>\n",
       "    <tr>\n",
       "      <th>3</th>\n",
       "      <td>36</td>\n",
       "      <td>2</td>\n",
       "      <td>1</td>\n",
       "      <td>Sales Associate</td>\n",
       "      <td>7.0</td>\n",
       "      <td>60000</td>\n",
       "    </tr>\n",
       "    <tr>\n",
       "      <th>4</th>\n",
       "      <td>52</td>\n",
       "      <td>1</td>\n",
       "      <td>2</td>\n",
       "      <td>Director</td>\n",
       "      <td>20.0</td>\n",
       "      <td>200000</td>\n",
       "    </tr>\n",
       "  </tbody>\n",
       "</table>\n",
       "</div>"
      ],
      "text/plain": [
       "   Age  Gender  Education Level          Job Title  Years of Experience  \\\n",
       "0   32       1                1  Software Engineer                  5.0   \n",
       "1   28       2                2       Data Analyst                  3.0   \n",
       "2   45       1                3     Senior Manager                 15.0   \n",
       "3   36       2                1    Sales Associate                  7.0   \n",
       "4   52       1                2           Director                 20.0   \n",
       "\n",
       "   Salary  \n",
       "0   90000  \n",
       "1   65000  \n",
       "2  150000  \n",
       "3   60000  \n",
       "4  200000  "
      ]
     },
     "execution_count": 17,
     "metadata": {},
     "output_type": "execute_result"
    }
   ],
   "source": [
    "data.head()"
   ]
  },
  {
   "cell_type": "markdown",
   "id": "cdc483a9",
   "metadata": {},
   "source": [
    "#### splitting the data into training and testing data"
   ]
  },
  {
   "cell_type": "code",
   "execution_count": 18,
   "id": "117a45c3",
   "metadata": {},
   "outputs": [],
   "source": [
    "#independent variables\n",
    "x=data[['Age','Gender','Education Level','Years of Experience']]"
   ]
  },
  {
   "cell_type": "code",
   "execution_count": 19,
   "id": "91f8ae2e",
   "metadata": {},
   "outputs": [],
   "source": [
    "#dependent variable\n",
    "y=data['Salary']"
   ]
  },
  {
   "cell_type": "code",
   "execution_count": 20,
   "id": "02444161",
   "metadata": {},
   "outputs": [],
   "source": [
    "x_train,x_test,y_train,y_test=train_test_split(x,y,test_size=0.20,random_state=43)"
   ]
  },
  {
   "cell_type": "markdown",
   "id": "247298ef",
   "metadata": {},
   "source": [
    "#### creating a Decision Tree Classifier Model"
   ]
  },
  {
   "cell_type": "code",
   "execution_count": 32,
   "id": "3b8fa7ee",
   "metadata": {},
   "outputs": [],
   "source": [
    "model=DecisionTreeClassifier(max_depth=3)"
   ]
  },
  {
   "cell_type": "markdown",
   "id": "634c3316",
   "metadata": {},
   "source": [
    "#### fit the model"
   ]
  },
  {
   "cell_type": "code",
   "execution_count": 33,
   "id": "bf9bcd6d",
   "metadata": {},
   "outputs": [
    {
     "data": {
      "text/plain": [
       "DecisionTreeClassifier(max_depth=3)"
      ]
     },
     "execution_count": 33,
     "metadata": {},
     "output_type": "execute_result"
    }
   ],
   "source": [
    "model.fit(x_train,y_train)"
   ]
  },
  {
   "cell_type": "markdown",
   "id": "baeb51b0",
   "metadata": {},
   "source": [
    "#### predicting using the training model"
   ]
  },
  {
   "cell_type": "code",
   "execution_count": 34,
   "id": "15b009d8",
   "metadata": {},
   "outputs": [],
   "source": [
    "prediction=model.predict(x_test)"
   ]
  },
  {
   "cell_type": "markdown",
   "id": "c90d7ff3",
   "metadata": {},
   "source": [
    "#### creating a dataframe that shows the actual value and predicted value"
   ]
  },
  {
   "cell_type": "code",
   "execution_count": 35,
   "id": "1b7d0361",
   "metadata": {},
   "outputs": [],
   "source": [
    "df=pd.DataFrame({'Actual':y_test,'Predicted_value':prediction})"
   ]
  },
  {
   "cell_type": "code",
   "execution_count": 36,
   "id": "4ea346a2",
   "metadata": {},
   "outputs": [
    {
     "data": {
      "text/html": [
       "<div>\n",
       "<style scoped>\n",
       "    .dataframe tbody tr th:only-of-type {\n",
       "        vertical-align: middle;\n",
       "    }\n",
       "\n",
       "    .dataframe tbody tr th {\n",
       "        vertical-align: top;\n",
       "    }\n",
       "\n",
       "    .dataframe thead th {\n",
       "        text-align: right;\n",
       "    }\n",
       "</style>\n",
       "<table border=\"1\" class=\"dataframe\">\n",
       "  <thead>\n",
       "    <tr style=\"text-align: right;\">\n",
       "      <th></th>\n",
       "      <th>Actual</th>\n",
       "      <th>Predicted_value</th>\n",
       "    </tr>\n",
       "  </thead>\n",
       "  <tbody>\n",
       "    <tr>\n",
       "      <th>360</th>\n",
       "      <td>40000</td>\n",
       "      <td>40000</td>\n",
       "    </tr>\n",
       "    <tr>\n",
       "      <th>269</th>\n",
       "      <td>110000</td>\n",
       "      <td>95000</td>\n",
       "    </tr>\n",
       "    <tr>\n",
       "      <th>303</th>\n",
       "      <td>150000</td>\n",
       "      <td>180000</td>\n",
       "    </tr>\n",
       "    <tr>\n",
       "      <th>130</th>\n",
       "      <td>160000</td>\n",
       "      <td>180000</td>\n",
       "    </tr>\n",
       "    <tr>\n",
       "      <th>44</th>\n",
       "      <td>130000</td>\n",
       "      <td>95000</td>\n",
       "    </tr>\n",
       "  </tbody>\n",
       "</table>\n",
       "</div>"
      ],
      "text/plain": [
       "     Actual  Predicted_value\n",
       "360   40000            40000\n",
       "269  110000            95000\n",
       "303  150000           180000\n",
       "130  160000           180000\n",
       "44   130000            95000"
      ]
     },
     "execution_count": 36,
     "metadata": {},
     "output_type": "execute_result"
    }
   ],
   "source": [
    "df.head()"
   ]
  },
  {
   "cell_type": "markdown",
   "id": "38ab7091",
   "metadata": {},
   "source": [
    "#### determining the accuracy of the model"
   ]
  },
  {
   "cell_type": "code",
   "execution_count": 37,
   "id": "e0a37021",
   "metadata": {},
   "outputs": [],
   "source": [
    "accuracy=accuracy_score(y_test,prediction)"
   ]
  },
  {
   "cell_type": "code",
   "execution_count": 38,
   "id": "8e6d75fe",
   "metadata": {},
   "outputs": [
    {
     "name": "stdout",
     "output_type": "stream",
     "text": [
      "The accuracy of the Decision Tree Classifier Model is:  0.24\n"
     ]
    }
   ],
   "source": [
    "print('The accuracy of the Decision Tree Classifier Model is: ',accuracy)"
   ]
  },
  {
   "cell_type": "markdown",
   "id": "c31445da",
   "metadata": {},
   "source": [
    "##### this accuracy score indicates that 24% of the the predictions made by the model are accurate. An accuracy score of 0.24 indicates that the model's performance is relatively low."
   ]
  },
  {
   "cell_type": "code",
   "execution_count": 40,
   "id": "2364efb9",
   "metadata": {},
   "outputs": [
    {
     "data": {
      "image/png": "[encoded data removed]",
      "text/plain": [
       "<Figure size 1080x1080 with 1 Axes>"
      ]
     },
     "metadata": {
      "needs_background": "light"
     },
     "output_type": "display_data"
    }
   ],
   "source": [
    "plt.figure(figsize=(15,15))\n",
    "plot_tree(model,filled=True,feature_names=x.columns)\n",
    "plt.show()"
   ]
  },
  {
   "cell_type": "code",
   "execution_count": null,
   "id": "2bf77218",
   "metadata": {},
   "outputs": [],
   "source": []
  }
 ],
 "metadata": {
  "kernelspec": {
   "display_name": "Python 3",
   "language": "python",
   "name": "python3"
  },
  "language_info": {
   "codemirror_mode": {
    "name": "ipython",
    "version": 3
   },
   "file_extension": ".py",
   "mimetype": "text/x-python",
   "name": "python",
   "nbconvert_exporter": "python",
   "pygments_lexer": "ipython3",
   "version": "3.8.8"
  }
 },
 "nbformat": 4,
 "nbformat_minor": 5
}
